{
 "cells": [
  {
   "cell_type": "code",
   "execution_count": 9,
   "metadata": {
    "ExecuteTime": {
     "end_time": "2020-07-21T06:12:13.708437Z",
     "start_time": "2020-07-21T06:11:59.944374Z"
    }
   },
   "outputs": [
    {
     "name": "stdout",
     "output_type": "stream",
     "text": [
      ">> Enter a Number in Seconds to set Countdown_Timer : 10\n",
      "Hours : Minutes : Seconds\n",
      "You Were Deceived!\n"
     ]
    }
   ],
   "source": [
    "import time \n",
    "\n",
    "while True:\n",
    "    try:\n",
    "        time_to_Stop = input(\">> Enter a Number in Seconds to set Countdown_Timer : \")\n",
    "        print(\"Hours : Minutes : Seconds\")\n",
    "        seconds = abs(int(time_to_Stop))\n",
    "        while seconds >=0:\n",
    "            #The divmod(x,y)-->(x/y,x%y) method in python takes two numbers and returns a pair of numbers \n",
    "            # consisting of their quotient and remainder.\n",
    "            # if x = 120 and y = 60  --> it will return (120/60,120%60) --> (2,0)\n",
    "\n",
    "            min,sec = divmod(seconds,60) \n",
    "            hrs,min = divmod(min,60)\n",
    "            \n",
    "            # str.zfill(lenght) method returns a copy of the string with ‘0’ characters \n",
    "            # padded to the leftside of the given string.\n",
    "            # 'Hello'.zfill(7) --> '00Hello' |||  'Hello'.zfill(5) --> \"Hello\"\n",
    "\n",
    "            time_left = str(hrs).zfill(2)+ \":\" + str(min).zfill(2)+\":\"+ str(sec).zfill(2)\n",
    "            print(time_left,end=\"\\r\")\n",
    "            time.sleep(1) # time.sleep(x) for Wait x Seconds before Executing Next line of code\n",
    "            seconds-=1 \n",
    "\n",
    "        print(\"You Were Deceived!\")\n",
    "    except KeyboardInterrupt:\n",
    "        pass\n",
    "    break"
   ]
  },
  {
   "cell_type": "code",
   "execution_count": null,
   "metadata": {},
   "outputs": [],
   "source": []
  }
 ],
 "metadata": {
  "hide_input": false,
  "kernelspec": {
   "display_name": "Python 3",
   "language": "python",
   "name": "python3"
  },
  "language_info": {
   "codemirror_mode": {
    "name": "ipython",
    "version": 3
   },
   "file_extension": ".py",
   "mimetype": "text/x-python",
   "name": "python",
   "nbconvert_exporter": "python",
   "pygments_lexer": "ipython3",
   "version": "3.7.6"
  },
  "toc": {
   "base_numbering": 1,
   "nav_menu": {},
   "number_sections": true,
   "sideBar": true,
   "skip_h1_title": false,
   "title_cell": "Table of Contents",
   "title_sidebar": "Contents",
   "toc_cell": false,
   "toc_position": {},
   "toc_section_display": true,
   "toc_window_display": false
  },
  "varInspector": {
   "cols": {
    "lenName": 16,
    "lenType": 16,
    "lenVar": 40
   },
   "kernels_config": {
    "python": {
     "delete_cmd_postfix": "",
     "delete_cmd_prefix": "del ",
     "library": "var_list.py",
     "varRefreshCmd": "print(var_dic_list())"
    },
    "r": {
     "delete_cmd_postfix": ") ",
     "delete_cmd_prefix": "rm(",
     "library": "var_list.r",
     "varRefreshCmd": "cat(var_dic_list()) "
    }
   },
   "types_to_exclude": [
    "module",
    "function",
    "builtin_function_or_method",
    "instance",
    "_Feature"
   ],
   "window_display": false
  }
 },
 "nbformat": 4,
 "nbformat_minor": 4
}
